{
 "cells": [
  {
   "cell_type": "code",
   "execution_count": 122,
   "id": "8ffb5e82-9848-482e-aa63-85850033a2ad",
   "metadata": {},
   "outputs": [
    {
     "data": {
      "text/html": [
       "<div>\n",
       "<style scoped>\n",
       "    .dataframe tbody tr th:only-of-type {\n",
       "        vertical-align: middle;\n",
       "    }\n",
       "\n",
       "    .dataframe tbody tr th {\n",
       "        vertical-align: top;\n",
       "    }\n",
       "\n",
       "    .dataframe thead th {\n",
       "        text-align: right;\n",
       "    }\n",
       "</style>\n",
       "<table border=\"1\" class=\"dataframe\">\n",
       "  <thead>\n",
       "    <tr style=\"text-align: right;\">\n",
       "      <th></th>\n",
       "      <th>date</th>\n",
       "      <th>births</th>\n",
       "    </tr>\n",
       "  </thead>\n",
       "  <tbody>\n",
       "    <tr>\n",
       "      <th>0</th>\n",
       "      <td>1/1/1994</td>\n",
       "      <td>8096</td>\n",
       "    </tr>\n",
       "    <tr>\n",
       "      <th>1</th>\n",
       "      <td>1/2/1994</td>\n",
       "      <td>7772</td>\n",
       "    </tr>\n",
       "    <tr>\n",
       "      <th>2</th>\n",
       "      <td>1/3/1994</td>\n",
       "      <td>10142</td>\n",
       "    </tr>\n",
       "    <tr>\n",
       "      <th>3</th>\n",
       "      <td>1/4/1994</td>\n",
       "      <td>11248</td>\n",
       "    </tr>\n",
       "    <tr>\n",
       "      <th>4</th>\n",
       "      <td>1/5/1994</td>\n",
       "      <td>11053</td>\n",
       "    </tr>\n",
       "  </tbody>\n",
       "</table>\n",
       "</div>"
      ],
      "text/plain": [
       "       date  births\n",
       "0  1/1/1994    8096\n",
       "1  1/2/1994    7772\n",
       "2  1/3/1994   10142\n",
       "3  1/4/1994   11248\n",
       "4  1/5/1994   11053"
      ]
     },
     "execution_count": 122,
     "metadata": {},
     "output_type": "execute_result"
    }
   ],
   "source": [
    "import numpy as np\n",
    "import pandas as pd\n",
    "import datetime \n",
    "import matplotlib\n",
    "import matplotlib.pyplot as plt\n",
    "plt.style.use('ggplot')\n",
    "from matplotlib.pyplot import figure\n",
    "import plotly.express as px\n",
    "%matplotlib inline\n",
    "matplotlib.rcParams['figure.figsize'] = (12,8) #Adjust the configuration of the plot created\n",
    "\n",
    "\n",
    "birth = pd.read_csv('US_births_1994-2003_CDC_NCHS_MOD_Date.csv')\n",
    "moon = pd.read_csv('moonphases.csv')\n",
    "birth.head()"
   ]
  },
  {
   "cell_type": "code",
   "execution_count": 123,
   "id": "950922b3-6e56-4733-8c50-e6b74125a4b6",
   "metadata": {},
   "outputs": [],
   "source": [
    "# Creating a new column with only the date and change the type\n",
    "moon['date'] = moon['peak_datetime'].str.split('T').str[0]\n",
    "moon[\"date\"]= pd.to_datetime(moon[\"date\"])\n"
   ]
  },
  {
   "cell_type": "code",
   "execution_count": 124,
   "id": "10481daf-4695-41c3-a786-e117edd3411f",
   "metadata": {},
   "outputs": [],
   "source": [
    "birth['date'] = pd.to_datetime(birth['date'])"
   ]
  },
  {
   "cell_type": "code",
   "execution_count": 125,
   "id": "84719577-2347-4c40-a3f5-8311279cd4ac",
   "metadata": {},
   "outputs": [
    {
     "data": {
      "text/html": [
       "<div>\n",
       "<style scoped>\n",
       "    .dataframe tbody tr th:only-of-type {\n",
       "        vertical-align: middle;\n",
       "    }\n",
       "\n",
       "    .dataframe tbody tr th {\n",
       "        vertical-align: top;\n",
       "    }\n",
       "\n",
       "    .dataframe thead th {\n",
       "        text-align: right;\n",
       "    }\n",
       "</style>\n",
       "<table border=\"1\" class=\"dataframe\">\n",
       "  <thead>\n",
       "    <tr style=\"text-align: right;\">\n",
       "      <th></th>\n",
       "      <th>date</th>\n",
       "      <th>births</th>\n",
       "    </tr>\n",
       "  </thead>\n",
       "  <tbody>\n",
       "    <tr>\n",
       "      <th>0</th>\n",
       "      <td>1994-01-01</td>\n",
       "      <td>8096</td>\n",
       "    </tr>\n",
       "    <tr>\n",
       "      <th>1</th>\n",
       "      <td>1994-01-02</td>\n",
       "      <td>7772</td>\n",
       "    </tr>\n",
       "    <tr>\n",
       "      <th>2</th>\n",
       "      <td>1994-01-03</td>\n",
       "      <td>10142</td>\n",
       "    </tr>\n",
       "    <tr>\n",
       "      <th>3</th>\n",
       "      <td>1994-01-04</td>\n",
       "      <td>11248</td>\n",
       "    </tr>\n",
       "    <tr>\n",
       "      <th>4</th>\n",
       "      <td>1994-01-05</td>\n",
       "      <td>11053</td>\n",
       "    </tr>\n",
       "    <tr>\n",
       "      <th>...</th>\n",
       "      <td>...</td>\n",
       "      <td>...</td>\n",
       "    </tr>\n",
       "    <tr>\n",
       "      <th>3647</th>\n",
       "      <td>2003-12-27</td>\n",
       "      <td>8646</td>\n",
       "    </tr>\n",
       "    <tr>\n",
       "      <th>3648</th>\n",
       "      <td>2003-12-28</td>\n",
       "      <td>7645</td>\n",
       "    </tr>\n",
       "    <tr>\n",
       "      <th>3649</th>\n",
       "      <td>2003-12-29</td>\n",
       "      <td>12823</td>\n",
       "    </tr>\n",
       "    <tr>\n",
       "      <th>3650</th>\n",
       "      <td>2003-12-30</td>\n",
       "      <td>14438</td>\n",
       "    </tr>\n",
       "    <tr>\n",
       "      <th>3651</th>\n",
       "      <td>2003-12-31</td>\n",
       "      <td>12374</td>\n",
       "    </tr>\n",
       "  </tbody>\n",
       "</table>\n",
       "<p>3652 rows × 2 columns</p>\n",
       "</div>"
      ],
      "text/plain": [
       "           date  births\n",
       "0    1994-01-01    8096\n",
       "1    1994-01-02    7772\n",
       "2    1994-01-03   10142\n",
       "3    1994-01-04   11248\n",
       "4    1994-01-05   11053\n",
       "...         ...     ...\n",
       "3647 2003-12-27    8646\n",
       "3648 2003-12-28    7645\n",
       "3649 2003-12-29   12823\n",
       "3650 2003-12-30   14438\n",
       "3651 2003-12-31   12374\n",
       "\n",
       "[3652 rows x 2 columns]"
      ]
     },
     "execution_count": 125,
     "metadata": {},
     "output_type": "execute_result"
    }
   ],
   "source": [
    "birth"
   ]
  },
  {
   "cell_type": "code",
   "execution_count": 126,
   "id": "41a83635-4fa7-4c92-ac4b-5424c4c880bf",
   "metadata": {},
   "outputs": [
    {
     "data": {
      "text/html": [
       "<div>\n",
       "<style scoped>\n",
       "    .dataframe tbody tr th:only-of-type {\n",
       "        vertical-align: middle;\n",
       "    }\n",
       "\n",
       "    .dataframe tbody tr th {\n",
       "        vertical-align: top;\n",
       "    }\n",
       "\n",
       "    .dataframe thead th {\n",
       "        text-align: right;\n",
       "    }\n",
       "</style>\n",
       "<table border=\"1\" class=\"dataframe\">\n",
       "  <thead>\n",
       "    <tr style=\"text-align: right;\">\n",
       "      <th></th>\n",
       "      <th>phase</th>\n",
       "      <th>peak_datetime</th>\n",
       "      <th>date</th>\n",
       "    </tr>\n",
       "  </thead>\n",
       "  <tbody>\n",
       "    <tr>\n",
       "      <th>0</th>\n",
       "      <td>Full Moon</td>\n",
       "      <td>1700-01-05T10:30:00</td>\n",
       "      <td>1700-01-05</td>\n",
       "    </tr>\n",
       "    <tr>\n",
       "      <th>1</th>\n",
       "      <td>Last Quarter</td>\n",
       "      <td>1700-01-12T03:34:00</td>\n",
       "      <td>1700-01-12</td>\n",
       "    </tr>\n",
       "    <tr>\n",
       "      <th>2</th>\n",
       "      <td>New Moon</td>\n",
       "      <td>1700-01-20T04:20:00</td>\n",
       "      <td>1700-01-20</td>\n",
       "    </tr>\n",
       "    <tr>\n",
       "      <th>3</th>\n",
       "      <td>First Quarter</td>\n",
       "      <td>1700-01-28T05:13:00</td>\n",
       "      <td>1700-01-28</td>\n",
       "    </tr>\n",
       "    <tr>\n",
       "      <th>4</th>\n",
       "      <td>Full Moon</td>\n",
       "      <td>1700-02-03T21:05:00</td>\n",
       "      <td>1700-02-03</td>\n",
       "    </tr>\n",
       "    <tr>\n",
       "      <th>...</th>\n",
       "      <td>...</td>\n",
       "      <td>...</td>\n",
       "      <td>...</td>\n",
       "    </tr>\n",
       "    <tr>\n",
       "      <th>19784</th>\n",
       "      <td>Full Moon</td>\n",
       "      <td>2099-11-27T21:23:00</td>\n",
       "      <td>2099-11-27</td>\n",
       "    </tr>\n",
       "    <tr>\n",
       "      <th>19785</th>\n",
       "      <td>Last Quarter</td>\n",
       "      <td>2099-12-05T04:47:00</td>\n",
       "      <td>2099-12-05</td>\n",
       "    </tr>\n",
       "    <tr>\n",
       "      <th>19786</th>\n",
       "      <td>New Moon</td>\n",
       "      <td>2099-12-11T23:10:00</td>\n",
       "      <td>2099-12-11</td>\n",
       "    </tr>\n",
       "    <tr>\n",
       "      <th>19787</th>\n",
       "      <td>First Quarter</td>\n",
       "      <td>2099-12-19T14:23:00</td>\n",
       "      <td>2099-12-19</td>\n",
       "    </tr>\n",
       "    <tr>\n",
       "      <th>19788</th>\n",
       "      <td>Full Moon</td>\n",
       "      <td>2099-12-27T13:00:00</td>\n",
       "      <td>2099-12-27</td>\n",
       "    </tr>\n",
       "  </tbody>\n",
       "</table>\n",
       "<p>19789 rows × 3 columns</p>\n",
       "</div>"
      ],
      "text/plain": [
       "               phase        peak_datetime       date\n",
       "0          Full Moon  1700-01-05T10:30:00 1700-01-05\n",
       "1       Last Quarter  1700-01-12T03:34:00 1700-01-12\n",
       "2           New Moon  1700-01-20T04:20:00 1700-01-20\n",
       "3      First Quarter  1700-01-28T05:13:00 1700-01-28\n",
       "4          Full Moon  1700-02-03T21:05:00 1700-02-03\n",
       "...              ...                  ...        ...\n",
       "19784      Full Moon  2099-11-27T21:23:00 2099-11-27\n",
       "19785   Last Quarter  2099-12-05T04:47:00 2099-12-05\n",
       "19786       New Moon  2099-12-11T23:10:00 2099-12-11\n",
       "19787  First Quarter  2099-12-19T14:23:00 2099-12-19\n",
       "19788      Full Moon  2099-12-27T13:00:00 2099-12-27\n",
       "\n",
       "[19789 rows x 3 columns]"
      ]
     },
     "execution_count": 126,
     "metadata": {},
     "output_type": "execute_result"
    }
   ],
   "source": [
    "moon"
   ]
  },
  {
   "cell_type": "code",
   "execution_count": 127,
   "id": "ef733240-8fab-4f81-8033-bd63217608ec",
   "metadata": {},
   "outputs": [
    {
     "data": {
      "text/plain": [
       "Text(0, 0.5, 'Births')"
      ]
     },
     "execution_count": 127,
     "metadata": {},
     "output_type": "execute_result"
    },
    {
     "data": {
      "image/png": "[encoded data removed]",
      "text/plain": [
       "<Figure size 1200x800 with 1 Axes>"
      ]
     },
     "metadata": {},
     "output_type": "display_data"
    }
   ],
   "source": [
    "plt.bar(birth['date'], birth['births'])\n",
    "plt.xlabel(\"Date\")\n",
    "plt.ylabel(\"Births\")"
   ]
  },
  {
   "cell_type": "code",
   "execution_count": 128,
   "id": "d4e75e75-0134-43de-9fec-35d8fddc4653",
   "metadata": {},
   "outputs": [],
   "source": [
    "# There seems to be a cyclical pattern to births per day as the year progresses. "
   ]
  },
  {
   "cell_type": "code",
   "execution_count": 129,
   "id": "78a429d2-e799-4203-a67f-2b5d6f49d712",
   "metadata": {},
   "outputs": [
    {
     "data": {
      "text/plain": [
       "<AxesSubplot:xlabel='date'>"
      ]
     },
     "execution_count": 129,
     "metadata": {},
     "output_type": "execute_result"
    },
    {
     "data": {
      "image/png": "[encoded data removed]",
      "text/plain": [
       "<Figure size 1200x400 with 1 Axes>"
      ]
     },
     "metadata": {},
     "output_type": "display_data"
    }
   ],
   "source": [
    "fig, axs = plt.subplots(figsize=(12,4))\n",
    "birth.groupby(birth['date'].dt.year)['births'].sum().plot(kind = 'bar', rot=0, ax=axs)"
   ]
  },
  {
   "cell_type": "code",
   "execution_count": 131,
   "id": "a7194d15-7f53-4335-b725-dab7c110e1e8",
   "metadata": {},
   "outputs": [
    {
     "data": {
      "text/html": [
       "<div>\n",
       "<style scoped>\n",
       "    .dataframe tbody tr th:only-of-type {\n",
       "        vertical-align: middle;\n",
       "    }\n",
       "\n",
       "    .dataframe tbody tr th {\n",
       "        vertical-align: top;\n",
       "    }\n",
       "\n",
       "    .dataframe thead th {\n",
       "        text-align: right;\n",
       "    }\n",
       "</style>\n",
       "<table border=\"1\" class=\"dataframe\">\n",
       "  <thead>\n",
       "    <tr style=\"text-align: right;\">\n",
       "      <th></th>\n",
       "      <th>date</th>\n",
       "      <th>births</th>\n",
       "      <th>phase</th>\n",
       "      <th>peak_datetime</th>\n",
       "    </tr>\n",
       "  </thead>\n",
       "  <tbody>\n",
       "    <tr>\n",
       "      <th>0</th>\n",
       "      <td>1994-01-05</td>\n",
       "      <td>11053</td>\n",
       "      <td>Last Quarter</td>\n",
       "      <td>1994-01-05T00:01:00</td>\n",
       "    </tr>\n",
       "    <tr>\n",
       "      <th>1</th>\n",
       "      <td>1994-01-11</td>\n",
       "      <td>11706</td>\n",
       "      <td>New Moon</td>\n",
       "      <td>1994-01-11T23:10:00</td>\n",
       "    </tr>\n",
       "    <tr>\n",
       "      <th>2</th>\n",
       "      <td>1994-01-19</td>\n",
       "      <td>11257</td>\n",
       "      <td>First Quarter</td>\n",
       "      <td>1994-01-19T20:27:00</td>\n",
       "    </tr>\n",
       "    <tr>\n",
       "      <th>3</th>\n",
       "      <td>1994-01-27</td>\n",
       "      <td>11702</td>\n",
       "      <td>Full Moon</td>\n",
       "      <td>1994-01-27T13:23:00</td>\n",
       "    </tr>\n",
       "    <tr>\n",
       "      <th>4</th>\n",
       "      <td>1994-02-03</td>\n",
       "      <td>11523</td>\n",
       "      <td>Last Quarter</td>\n",
       "      <td>1994-02-03T08:06:00</td>\n",
       "    </tr>\n",
       "    <tr>\n",
       "      <th>...</th>\n",
       "      <td>...</td>\n",
       "      <td>...</td>\n",
       "      <td>...</td>\n",
       "      <td>...</td>\n",
       "    </tr>\n",
       "    <tr>\n",
       "      <th>95</th>\n",
       "      <td>1995-12-07</td>\n",
       "      <td>11242</td>\n",
       "      <td>Full Moon</td>\n",
       "      <td>1995-12-07T01:27:00</td>\n",
       "    </tr>\n",
       "    <tr>\n",
       "      <th>96</th>\n",
       "      <td>1995-12-15</td>\n",
       "      <td>11458</td>\n",
       "      <td>Last Quarter</td>\n",
       "      <td>1995-12-15T05:31:00</td>\n",
       "    </tr>\n",
       "    <tr>\n",
       "      <th>97</th>\n",
       "      <td>1995-12-22</td>\n",
       "      <td>11204</td>\n",
       "      <td>New Moon</td>\n",
       "      <td>1995-12-22T02:22:00</td>\n",
       "    </tr>\n",
       "    <tr>\n",
       "      <th>98</th>\n",
       "      <td>1995-12-28</td>\n",
       "      <td>12530</td>\n",
       "      <td>First Quarter</td>\n",
       "      <td>1995-12-28T19:06:00</td>\n",
       "    </tr>\n",
       "    <tr>\n",
       "      <th>99</th>\n",
       "      <td>1996-01-05</td>\n",
       "      <td>11631</td>\n",
       "      <td>Full Moon</td>\n",
       "      <td>1996-01-05T20:51:00</td>\n",
       "    </tr>\n",
       "  </tbody>\n",
       "</table>\n",
       "<p>100 rows × 4 columns</p>\n",
       "</div>"
      ],
      "text/plain": [
       "         date  births          phase        peak_datetime\n",
       "0  1994-01-05   11053   Last Quarter  1994-01-05T00:01:00\n",
       "1  1994-01-11   11706       New Moon  1994-01-11T23:10:00\n",
       "2  1994-01-19   11257  First Quarter  1994-01-19T20:27:00\n",
       "3  1994-01-27   11702      Full Moon  1994-01-27T13:23:00\n",
       "4  1994-02-03   11523   Last Quarter  1994-02-03T08:06:00\n",
       "..        ...     ...            ...                  ...\n",
       "95 1995-12-07   11242      Full Moon  1995-12-07T01:27:00\n",
       "96 1995-12-15   11458   Last Quarter  1995-12-15T05:31:00\n",
       "97 1995-12-22   11204       New Moon  1995-12-22T02:22:00\n",
       "98 1995-12-28   12530  First Quarter  1995-12-28T19:06:00\n",
       "99 1996-01-05   11631      Full Moon  1996-01-05T20:51:00\n",
       "\n",
       "[100 rows x 4 columns]"
      ]
     },
     "execution_count": 131,
     "metadata": {},
     "output_type": "execute_result"
    }
   ],
   "source": [
    "mergedf = pd.merge(birth, moon, on=['date'], how='inner')\n",
    "mergedf.head(100)"
   ]
  },
  {
   "cell_type": "code",
   "execution_count": 132,
   "id": "3cbc5a6b-8ab6-400e-b589-e70dedbbd58c",
   "metadata": {},
   "outputs": [
    {
     "data": {
      "text/plain": [
       "Text(0, 0.5, 'Number of Births From 1994 to 2003')"
      ]
     },
     "execution_count": 132,
     "metadata": {},
     "output_type": "execute_result"
    },
    {
     "data": {
      "image/png": "[encoded data removed]",
      "text/plain": [
       "<Figure size 1200x800 with 1 Axes>"
      ]
     },
     "metadata": {},
     "output_type": "display_data"
    }
   ],
   "source": [
    "plt.bar(mergedf['phase'], mergedf['births'])\n",
    "plt.xlabel(\"Moon Phases\")\n",
    "plt.ylabel(\"Number of Births From 1994 to 2003\")\n",
    "# Based birth data from 1994 to 2003 there appears to be no correlation between moon phases and births."
   ]
  },
  {
   "cell_type": "code",
   "execution_count": 133,
   "id": "8fbc6207-fb01-47c9-a25d-1a9d02080a3e",
   "metadata": {},
   "outputs": [],
   "source": [
    "mergedf.to_csv('birth_moon.csv', header=True, index=False, encoding='utf-8')"
   ]
  },
  {
   "cell_type": "code",
   "execution_count": 134,
   "id": "38fa02dd-f6c9-49ff-9a86-d9978242057c",
   "metadata": {},
   "outputs": [
    {
     "data": {
      "text/plain": [
       "Last Quarter     124\n",
       "New Moon         124\n",
       "First Quarter    124\n",
       "Full Moon        123\n",
       "Name: phase, dtype: int64"
      ]
     },
     "execution_count": 134,
     "metadata": {},
     "output_type": "execute_result"
    }
   ],
   "source": [
    "total = mergedf['births'].sum()\n",
    "mergedf['phase'].value_counts()"
   ]
  },
  {
   "cell_type": "code",
   "execution_count": 135,
   "id": "9e04b1a1-6994-4d6b-8bef-9624990b9301",
   "metadata": {},
   "outputs": [],
   "source": [
    "full = mergedf.loc[mergedf['phase'] == 'Full Moon', 'births'].sum()\n",
    "new = mergedf.loc[mergedf['phase'] == 'New Moon', 'births'].sum()\n",
    "last = mergedf.loc[mergedf['phase'] == 'Last Quarter', 'births'].sum()\n",
    "first = mergedf.loc[mergedf['phase'] == 'First Quarter', 'births'].sum()"
   ]
  },
  {
   "cell_type": "code",
   "execution_count": 136,
   "id": "dc4b63ea-e3e1-4515-868b-116088816785",
   "metadata": {},
   "outputs": [],
   "source": [
    "fullp = mergedf.loc[mergedf['phase'] == 'Full Moon', 'births'].sum()/total*100\n",
    "newp = mergedf.loc[mergedf['phase'] == 'New Moon', 'births'].sum()/total*100\n",
    "lastp = mergedf.loc[mergedf['phase'] == 'Last Quarter', 'births'].sum()/total*100\n",
    "firstp = mergedf.loc[mergedf['phase'] == 'First Quarter', 'births'].sum()/total*100"
   ]
  },
  {
   "cell_type": "code",
   "execution_count": 137,
   "id": "1552b9ea-de3f-405b-8ce9-1759acb5def4",
   "metadata": {},
   "outputs": [
    {
     "data": {
      "text/plain": [
       "1359001"
      ]
     },
     "execution_count": 137,
     "metadata": {},
     "output_type": "execute_result"
    }
   ],
   "source": [
    "last"
   ]
  },
  {
   "cell_type": "code",
   "execution_count": 138,
   "id": "13cdfcbc-b105-432b-91e2-0792783d055f",
   "metadata": {},
   "outputs": [],
   "source": [
    "data  = pd.DataFrame({'Phases':['Last Quarter', 'New Moon', 'First Quarter', 'Full Moon'], \n",
    "        'Births':[last, new, first, full], 'Percentage of Total':[lastp, newp, firstp, fullp]})"
   ]
  },
  {
   "cell_type": "code",
   "execution_count": 139,
   "id": "d90476c1-3ec1-4825-b82c-cdefbf09cf65",
   "metadata": {},
   "outputs": [],
   "source": [
    "data.to_csv('births_moonPhase.csv', header=True, index=False, encoding='utf-8')"
   ]
  },
  {
   "cell_type": "code",
   "execution_count": null,
   "id": "2b8f6ffa-c4a1-444b-90bf-c583180aba3f",
   "metadata": {},
   "outputs": [],
   "source": []
  }
 ],
 "metadata": {
  "kernelspec": {
   "display_name": "Python 3 (ipykernel)",
   "language": "python",
   "name": "python3"
  },
  "language_info": {
   "codemirror_mode": {
    "name": "ipython",
    "version": 3
   },
   "file_extension": ".py",
   "mimetype": "text/x-python",
   "name": "python",
   "nbconvert_exporter": "python",
   "pygments_lexer": "ipython3",
   "version": "3.9.13"
  }
 },
 "nbformat": 4,
 "nbformat_minor": 5
}
